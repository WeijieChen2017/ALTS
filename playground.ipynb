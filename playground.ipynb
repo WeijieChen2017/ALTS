{
 "cells": [
  {
   "cell_type": "code",
   "execution_count": 1,
   "metadata": {},
   "outputs": [
    {
     "name": "stdout",
     "output_type": "stream",
     "text": [
      "case_id_list:  ['word_0014', 'word_0016', 'word_0017', 'word_0019', 'word_0021', 'word_0023', 'word_0024', 'word_0033', 'word_0034', 'word_0037', 'word_0043', 'word_0050', 'word_0052', 'word_0054', 'word_0057', 'word_0060', 'word_0069', 'word_0074', 'word_0076', 'word_0077', 'word_0088', 'word_0092', 'word_0097', 'word_0099', 'word_0103', 'word_0110', 'word_0120', 'word_0124', 'word_0129', 'word_0131']\n",
      "case_dir:  {'imagesTr': './data_dir/WORD/imagesTr/word_0014.nii.gz', 'labelsTr': './data_dir/WORD/labelsTr/word_0014.nii.gz'}\n",
      "case_dir:  {'imagesTr': './data_dir/WORD/imagesTr/word_0016.nii.gz', 'labelsTr': './data_dir/WORD/labelsTr/word_0016.nii.gz'}\n",
      "case_dir:  {'imagesTr': './data_dir/WORD/imagesTr/word_0017.nii.gz', 'labelsTr': './data_dir/WORD/labelsTr/word_0017.nii.gz'}\n",
      "case_dir:  {'imagesTr': './data_dir/WORD/imagesTr/word_0019.nii.gz', 'labelsTr': './data_dir/WORD/labelsTr/word_0019.nii.gz'}\n",
      "case_dir:  {'imagesTr': './data_dir/WORD/imagesTr/word_0021.nii.gz', 'labelsTr': './data_dir/WORD/labelsTr/word_0021.nii.gz'}\n",
      "case_dir:  {'imagesTr': './data_dir/WORD/imagesTr/word_0023.nii.gz', 'labelsTr': './data_dir/WORD/labelsTr/word_0023.nii.gz'}\n",
      "case_dir:  {'imagesTr': './data_dir/WORD/imagesTr/word_0024.nii.gz', 'labelsTr': './data_dir/WORD/labelsTr/word_0024.nii.gz'}\n",
      "case_dir:  {'imagesTr': './data_dir/WORD/imagesTr/word_0033.nii.gz', 'labelsTr': './data_dir/WORD/labelsTr/word_0033.nii.gz'}\n",
      "case_dir:  {'imagesTr': './data_dir/WORD/imagesTr/word_0034.nii.gz', 'labelsTr': './data_dir/WORD/labelsTr/word_0034.nii.gz'}\n",
      "case_dir:  {'imagesTr': './data_dir/WORD/imagesTr/word_0037.nii.gz', 'labelsTr': './data_dir/WORD/labelsTr/word_0037.nii.gz'}\n",
      "case_dir:  {'imagesTr': './data_dir/WORD/imagesTr/word_0043.nii.gz', 'labelsTr': './data_dir/WORD/labelsTr/word_0043.nii.gz'}\n",
      "case_dir:  {'imagesTr': './data_dir/WORD/imagesTr/word_0050.nii.gz', 'labelsTr': './data_dir/WORD/labelsTr/word_0050.nii.gz'}\n",
      "case_dir:  {'imagesTr': './data_dir/WORD/imagesTr/word_0052.nii.gz', 'labelsTr': './data_dir/WORD/labelsTr/word_0052.nii.gz'}\n",
      "case_dir:  {'imagesTr': './data_dir/WORD/imagesTr/word_0054.nii.gz', 'labelsTr': './data_dir/WORD/labelsTr/word_0054.nii.gz'}\n",
      "case_dir:  {'imagesTr': './data_dir/WORD/imagesTr/word_0057.nii.gz', 'labelsTr': './data_dir/WORD/labelsTr/word_0057.nii.gz'}\n",
      "case_dir:  {'imagesTr': './data_dir/WORD/imagesTr/word_0060.nii.gz', 'labelsTr': './data_dir/WORD/labelsTr/word_0060.nii.gz'}\n",
      "case_dir:  {'imagesTr': './data_dir/WORD/imagesTr/word_0069.nii.gz', 'labelsTr': './data_dir/WORD/labelsTr/word_0069.nii.gz'}\n",
      "case_dir:  {'imagesTr': './data_dir/WORD/imagesTr/word_0074.nii.gz', 'labelsTr': './data_dir/WORD/labelsTr/word_0074.nii.gz'}\n",
      "case_dir:  {'imagesTr': './data_dir/WORD/imagesTr/word_0076.nii.gz', 'labelsTr': './data_dir/WORD/labelsTr/word_0076.nii.gz'}\n",
      "case_dir:  {'imagesTr': './data_dir/WORD/imagesTr/word_0077.nii.gz', 'labelsTr': './data_dir/WORD/labelsTr/word_0077.nii.gz'}\n",
      "case_dir:  {'imagesTr': './data_dir/WORD/imagesTr/word_0088.nii.gz', 'labelsTr': './data_dir/WORD/labelsTr/word_0088.nii.gz'}\n",
      "case_dir:  {'imagesTr': './data_dir/WORD/imagesTr/word_0092.nii.gz', 'labelsTr': './data_dir/WORD/labelsTr/word_0092.nii.gz'}\n",
      "case_dir:  {'imagesTr': './data_dir/WORD/imagesTr/word_0097.nii.gz', 'labelsTr': './data_dir/WORD/labelsTr/word_0097.nii.gz'}\n",
      "case_dir:  {'imagesTr': './data_dir/WORD/imagesTr/word_0099.nii.gz', 'labelsTr': './data_dir/WORD/labelsTr/word_0099.nii.gz'}\n",
      "case_dir:  {'imagesTr': './data_dir/WORD/imagesTr/word_0103.nii.gz', 'labelsTr': './data_dir/WORD/labelsTr/word_0103.nii.gz'}\n",
      "case_dir:  {'imagesTr': './data_dir/WORD/imagesTr/word_0110.nii.gz', 'labelsTr': './data_dir/WORD/labelsTr/word_0110.nii.gz'}\n",
      "case_dir:  {'imagesTr': './data_dir/WORD/imagesTr/word_0120.nii.gz', 'labelsTr': './data_dir/WORD/labelsTr/word_0120.nii.gz'}\n",
      "case_dir:  {'imagesTr': './data_dir/WORD/imagesTr/word_0124.nii.gz', 'labelsTr': './data_dir/WORD/labelsTr/word_0124.nii.gz'}\n",
      "case_dir:  {'imagesTr': './data_dir/WORD/imagesTr/word_0129.nii.gz', 'labelsTr': './data_dir/WORD/labelsTr/word_0129.nii.gz'}\n",
      "case_dir:  {'imagesTr': './data_dir/WORD/imagesTr/word_0131.nii.gz', 'labelsTr': './data_dir/WORD/labelsTr/word_0131.nii.gz'}\n"
     ]
    }
   ],
   "source": [
    "import numpy as np\n",
    "import glob\n",
    "import os\n",
    "\n",
    "# start the training\n",
    "from utils import get_data\n",
    "n_epoch = 5\n",
    "batch_size = 4\n",
    "res_xyz = (160, 160, 80)\n",
    "out_channels = 17\n",
    "imagesTr_list = sorted(glob.glob(\"./data_dir/WORD/imagesTr/*.nii.gz\"))\n",
    "case_id_list = [os.path.basename(f).split(\".\")[0] for f in imagesTr_list]\n",
    "\n",
    "print(\"case_id_list: \", case_id_list)\n",
    "case_dir_list = []\n",
    "for case_id in case_id_list:\n",
    "    imagesTr_path = \"./data_dir/WORD/imagesTr/{}.nii.gz\".format(case_id)\n",
    "    labelsTr_path = \"./data_dir/WORD/labelsTr/{}.nii.gz\".format(case_id)\n",
    "    case_dir_list.append(\n",
    "        {\"imagesTr\": imagesTr_path, \"labelsTr\": labelsTr_path}\n",
    "    )\n",
    "\n",
    "for case_dir in case_dir_list:\n",
    "    print(\"case_dir: \", case_dir)"
   ]
  },
  {
   "cell_type": "code",
   "execution_count": 2,
   "metadata": {},
   "outputs": [
    {
     "name": "stdout",
     "output_type": "stream",
     "text": [
      "training_list:  [{'imagesTr': './data_dir/WORD/imagesTr/word_0017.nii.gz', 'labelsTr': './data_dir/WORD/labelsTr/word_0017.nii.gz'}, {'imagesTr': './data_dir/WORD/imagesTr/word_0129.nii.gz', 'labelsTr': './data_dir/WORD/labelsTr/word_0129.nii.gz'}, {'imagesTr': './data_dir/WORD/imagesTr/word_0054.nii.gz', 'labelsTr': './data_dir/WORD/labelsTr/word_0054.nii.gz'}, {'imagesTr': './data_dir/WORD/imagesTr/word_0043.nii.gz', 'labelsTr': './data_dir/WORD/labelsTr/word_0043.nii.gz'}, {'imagesTr': './data_dir/WORD/imagesTr/word_0120.nii.gz', 'labelsTr': './data_dir/WORD/labelsTr/word_0120.nii.gz'}, {'imagesTr': './data_dir/WORD/imagesTr/word_0103.nii.gz', 'labelsTr': './data_dir/WORD/labelsTr/word_0103.nii.gz'}, {'imagesTr': './data_dir/WORD/imagesTr/word_0124.nii.gz', 'labelsTr': './data_dir/WORD/labelsTr/word_0124.nii.gz'}, {'imagesTr': './data_dir/WORD/imagesTr/word_0050.nii.gz', 'labelsTr': './data_dir/WORD/labelsTr/word_0050.nii.gz'}, {'imagesTr': './data_dir/WORD/imagesTr/word_0074.nii.gz', 'labelsTr': './data_dir/WORD/labelsTr/word_0074.nii.gz'}, {'imagesTr': './data_dir/WORD/imagesTr/word_0097.nii.gz', 'labelsTr': './data_dir/WORD/labelsTr/word_0097.nii.gz'}, {'imagesTr': './data_dir/WORD/imagesTr/word_0023.nii.gz', 'labelsTr': './data_dir/WORD/labelsTr/word_0023.nii.gz'}, {'imagesTr': './data_dir/WORD/imagesTr/word_0069.nii.gz', 'labelsTr': './data_dir/WORD/labelsTr/word_0069.nii.gz'}, {'imagesTr': './data_dir/WORD/imagesTr/word_0034.nii.gz', 'labelsTr': './data_dir/WORD/labelsTr/word_0034.nii.gz'}, {'imagesTr': './data_dir/WORD/imagesTr/word_0057.nii.gz', 'labelsTr': './data_dir/WORD/labelsTr/word_0057.nii.gz'}, {'imagesTr': './data_dir/WORD/imagesTr/word_0099.nii.gz', 'labelsTr': './data_dir/WORD/labelsTr/word_0099.nii.gz'}, {'imagesTr': './data_dir/WORD/imagesTr/word_0088.nii.gz', 'labelsTr': './data_dir/WORD/labelsTr/word_0088.nii.gz'}, {'imagesTr': './data_dir/WORD/imagesTr/word_0016.nii.gz', 'labelsTr': './data_dir/WORD/labelsTr/word_0016.nii.gz'}, {'imagesTr': './data_dir/WORD/imagesTr/word_0131.nii.gz', 'labelsTr': './data_dir/WORD/labelsTr/word_0131.nii.gz'}, {'imagesTr': './data_dir/WORD/imagesTr/word_0024.nii.gz', 'labelsTr': './data_dir/WORD/labelsTr/word_0024.nii.gz'}, {'imagesTr': './data_dir/WORD/imagesTr/word_0021.nii.gz', 'labelsTr': './data_dir/WORD/labelsTr/word_0021.nii.gz'}, {'imagesTr': './data_dir/WORD/imagesTr/word_0076.nii.gz', 'labelsTr': './data_dir/WORD/labelsTr/word_0076.nii.gz'}]\n",
      "validation_list:  [{'imagesTr': './data_dir/WORD/imagesTr/word_0077.nii.gz', 'labelsTr': './data_dir/WORD/labelsTr/word_0077.nii.gz'}, {'imagesTr': './data_dir/WORD/imagesTr/word_0037.nii.gz', 'labelsTr': './data_dir/WORD/labelsTr/word_0037.nii.gz'}, {'imagesTr': './data_dir/WORD/imagesTr/word_0033.nii.gz', 'labelsTr': './data_dir/WORD/labelsTr/word_0033.nii.gz'}, {'imagesTr': './data_dir/WORD/imagesTr/word_0110.nii.gz', 'labelsTr': './data_dir/WORD/labelsTr/word_0110.nii.gz'}, {'imagesTr': './data_dir/WORD/imagesTr/word_0019.nii.gz', 'labelsTr': './data_dir/WORD/labelsTr/word_0019.nii.gz'}, {'imagesTr': './data_dir/WORD/imagesTr/word_0014.nii.gz', 'labelsTr': './data_dir/WORD/labelsTr/word_0014.nii.gz'}]\n",
      "testing_list:  [{'imagesTr': './data_dir/WORD/imagesTr/word_0092.nii.gz', 'labelsTr': './data_dir/WORD/labelsTr/word_0092.nii.gz'}, {'imagesTr': './data_dir/WORD/imagesTr/word_0060.nii.gz', 'labelsTr': './data_dir/WORD/labelsTr/word_0060.nii.gz'}, {'imagesTr': './data_dir/WORD/imagesTr/word_0052.nii.gz', 'labelsTr': './data_dir/WORD/labelsTr/word_0052.nii.gz'}]\n"
     ]
    }
   ],
   "source": [
    "training_ratio = 0.7\n",
    "validation_ratio = 0.2\n",
    "testing_ratio = 0.1\n",
    "training_num = int(len(case_dir_list) * training_ratio)\n",
    "validation_num = int(len(case_dir_list) * validation_ratio)\n",
    "testing_num = int(len(case_dir_list) * testing_ratio)\n",
    "# shuffle\n",
    "np.random.seed(0)\n",
    "np.random.shuffle(case_dir_list)\n",
    "training_list = case_dir_list[:training_num]\n",
    "validation_list = case_dir_list[training_num:training_num + validation_num]\n",
    "testing_list = case_dir_list[training_num + validation_num:]\n",
    "\n",
    "print(\"training_list: \", training_list)\n",
    "print(\"validation_list: \", validation_list)\n",
    "print(\"testing_list: \", testing_list)"
   ]
  },
  {
   "cell_type": "code",
   "execution_count": 3,
   "metadata": {},
   "outputs": [],
   "source": [
    "import nibabel as nib\n",
    "import numpy as np\n",
    "\n",
    "# batch_x, batch_y = get_data(dir_list, batch_size)\n",
    "\n",
    "def get_data(data_dir: list, batch_size: int, res_xyz: tuple, out_channels: int):\n",
    "    # Load data from the given directory\n",
    "    in_channel = 1\n",
    "    data_x = np.zeros((batch_size, in_channel, *res_xyz))\n",
    "    data_y = np.zeros((batch_size, out_channels, *res_xyz))\n",
    "    for idx, case_dir in enumerate(data_dir):\n",
    "        # load the input data\n",
    "        input_path = case_dir[\"imagesTr\"]\n",
    "        input_img = nib.load(input_path)\n",
    "        input_data = input_img.get_fdata()\n",
    "        input_data = np.clip(input_data, -1024, 2976)\n",
    "        input_data = (input_data + 1024) / 4000\n",
    "\n",
    "        label_path = case_dir[\"labelsTr\"]\n",
    "        label_img = nib.load(label_path)\n",
    "        label_data = label_img.get_fdata()\n",
    "\n",
    "        res_x, res_y, res_z = res_xyz\n",
    "        # pad input data.shape[0] and data.shape[1] to res_x and res_y\n",
    "        if res_x > input_data.shape[0] and res_y > input_data.shape[1]:\n",
    "            pad_x = (res_x - input_data.shape[0]) // 2\n",
    "            pad_y = (res_y - input_data.shape[1]) // 2\n",
    "            # rex_z is less than input_data.shape[2], so we need to select random start_z and end_z\n",
    "            start_z = np.random.randint(0, input_data.shape[2] - res_z)\n",
    "            end_z = start_z + res_z\n",
    "            data_x[idx, 0, pad_x:pad_x+input_data.shape[0], pad_y:pad_y+input_data.shape[1], :] = input_data[:, :, start_z:end_z]\n",
    "            data_y[idx, :, pad_x:pad_x+input_data.shape[0], pad_y:pad_y+input_data.shape[1], :] = label_data[:, :, start_z:end_z]\n",
    "        elif res_x < input_data.shape[0] and res_y < input_data.shape[1]:\n",
    "            # random crop\n",
    "            start_x = np.random.randint(0, input_data.shape[0] - res_x)\n",
    "            start_y = np.random.randint(0, input_data.shape[1] - res_y)\n",
    "            start_z = np.random.randint(0, input_data.shape[2] - res_z)\n",
    "            end_x = start_x + res_x\n",
    "            end_y = start_y + res_y\n",
    "            end_z = start_z + res_z\n",
    "            data_x[idx, 0, :, :, :] = input_data[start_x:end_x, start_y:end_y, start_z:end_z]\n",
    "            data_y[idx, :, :, :] = label_data[start_x:end_x, start_y:end_y, start_z:end_z]\n",
    "        else:\n",
    "            raise ValueError(\"res_x and res_y should be both larger or smaller than input_data.shape[0] and input_data.shape[1]\")\n",
    "            \n",
    "\n",
    "        # crop and pad\n",
    "        \n",
    "        \n",
    "    return data_x, data_y\n",
    "            \n"
   ]
  },
  {
   "cell_type": "code",
   "execution_count": null,
   "metadata": {},
   "outputs": [],
   "source": [
    "# create monai dataset\n",
    "from monai.data import Dataset\n",
    "from monai.transforms import Compose, LoadNiftid, AddChanneld, ScaleIntensityRanged, RandCropByPosNegLabeld, RandRotate90d, ToTensord\n",
    "\n"
   ]
  },
  {
   "cell_type": "code",
   "execution_count": 4,
   "metadata": {},
   "outputs": [
    {
     "name": "stdout",
     "output_type": "stream",
     "text": [
      "case_dir: {'imagesTr': './data_dir/WORD/imagesTr/word_0057.nii.gz', 'labelsTr': './data_dir/WORD/labelsTr/word_0057.nii.gz'}\n",
      "case_dir: {'imagesTr': './data_dir/WORD/imagesTr/word_0069.nii.gz', 'labelsTr': './data_dir/WORD/labelsTr/word_0069.nii.gz'}\n",
      "case_dir: {'imagesTr': './data_dir/WORD/imagesTr/word_0023.nii.gz', 'labelsTr': './data_dir/WORD/labelsTr/word_0023.nii.gz'}\n",
      "case_dir: {'imagesTr': './data_dir/WORD/imagesTr/word_0103.nii.gz', 'labelsTr': './data_dir/WORD/labelsTr/word_0103.nii.gz'}\n",
      "batch_x:  (4, 1, 512, 512, 64) batch_y:  (4, 17, 512, 512, 64)\n",
      "case_dir: {'imagesTr': './data_dir/WORD/imagesTr/word_0099.nii.gz', 'labelsTr': './data_dir/WORD/labelsTr/word_0099.nii.gz'}\n",
      "case_dir: {'imagesTr': './data_dir/WORD/imagesTr/word_0129.nii.gz', 'labelsTr': './data_dir/WORD/labelsTr/word_0129.nii.gz'}\n",
      "case_dir: {'imagesTr': './data_dir/WORD/imagesTr/word_0074.nii.gz', 'labelsTr': './data_dir/WORD/labelsTr/word_0074.nii.gz'}\n",
      "case_dir: {'imagesTr': './data_dir/WORD/imagesTr/word_0057.nii.gz', 'labelsTr': './data_dir/WORD/labelsTr/word_0057.nii.gz'}\n",
      "batch_x:  (4, 1, 512, 512, 64) batch_y:  (4, 17, 512, 512, 64)\n",
      "case_dir: {'imagesTr': './data_dir/WORD/imagesTr/word_0131.nii.gz', 'labelsTr': './data_dir/WORD/labelsTr/word_0131.nii.gz'}\n",
      "case_dir: {'imagesTr': './data_dir/WORD/imagesTr/word_0043.nii.gz', 'labelsTr': './data_dir/WORD/labelsTr/word_0043.nii.gz'}\n",
      "case_dir: {'imagesTr': './data_dir/WORD/imagesTr/word_0088.nii.gz', 'labelsTr': './data_dir/WORD/labelsTr/word_0088.nii.gz'}\n",
      "case_dir: {'imagesTr': './data_dir/WORD/imagesTr/word_0129.nii.gz', 'labelsTr': './data_dir/WORD/labelsTr/word_0129.nii.gz'}\n",
      "batch_x:  (4, 1, 512, 512, 64) batch_y:  (4, 17, 512, 512, 64)\n",
      "case_dir: {'imagesTr': './data_dir/WORD/imagesTr/word_0034.nii.gz', 'labelsTr': './data_dir/WORD/labelsTr/word_0034.nii.gz'}\n",
      "case_dir: {'imagesTr': './data_dir/WORD/imagesTr/word_0043.nii.gz', 'labelsTr': './data_dir/WORD/labelsTr/word_0043.nii.gz'}\n",
      "case_dir: {'imagesTr': './data_dir/WORD/imagesTr/word_0017.nii.gz', 'labelsTr': './data_dir/WORD/labelsTr/word_0017.nii.gz'}\n",
      "case_dir: {'imagesTr': './data_dir/WORD/imagesTr/word_0103.nii.gz', 'labelsTr': './data_dir/WORD/labelsTr/word_0103.nii.gz'}\n",
      "batch_x:  (4, 1, 512, 512, 64) batch_y:  (4, 17, 512, 512, 64)\n",
      "case_dir: {'imagesTr': './data_dir/WORD/imagesTr/word_0069.nii.gz', 'labelsTr': './data_dir/WORD/labelsTr/word_0069.nii.gz'}\n",
      "case_dir: {'imagesTr': './data_dir/WORD/imagesTr/word_0124.nii.gz', 'labelsTr': './data_dir/WORD/labelsTr/word_0124.nii.gz'}\n",
      "case_dir: {'imagesTr': './data_dir/WORD/imagesTr/word_0054.nii.gz', 'labelsTr': './data_dir/WORD/labelsTr/word_0054.nii.gz'}\n",
      "case_dir: {'imagesTr': './data_dir/WORD/imagesTr/word_0057.nii.gz', 'labelsTr': './data_dir/WORD/labelsTr/word_0057.nii.gz'}\n",
      "batch_x:  (4, 1, 512, 512, 64) batch_y:  (4, 17, 512, 512, 64)\n"
     ]
    }
   ],
   "source": [
    "for idx_epoch in range(n_epoch):\n",
    "    # random shuffle the training list and select the batch_size of the training list\n",
    "    dir_list = training_list\n",
    "    np.random.shuffle(dir_list)\n",
    "    dir_list = dir_list[:batch_size]\n",
    "    # do the training\n",
    "    batch_x, batch_y = get_data(dir_list, batch_size, res_xyz, out_channels)\n",
    "    print(\"batch_x: \", batch_x.shape, \"batch_y: \", batch_y.shape)\n"
   ]
  },
  {
   "cell_type": "code",
   "execution_count": null,
   "metadata": {},
   "outputs": [],
   "source": []
  }
 ],
 "metadata": {
  "kernelspec": {
   "display_name": "Python 3",
   "language": "python",
   "name": "python3"
  },
  "language_info": {
   "codemirror_mode": {
    "name": "ipython",
    "version": 3
   },
   "file_extension": ".py",
   "mimetype": "text/x-python",
   "name": "python",
   "nbconvert_exporter": "python",
   "pygments_lexer": "ipython3",
   "version": "3.9.19"
  }
 },
 "nbformat": 4,
 "nbformat_minor": 2
}
