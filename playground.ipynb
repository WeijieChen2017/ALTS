{
 "cells": [
  {
   "cell_type": "code",
   "execution_count": 7,
   "metadata": {},
   "outputs": [
    {
     "name": "stdout",
     "output_type": "stream",
     "text": [
      "case_id_list:  ['word_0014', 'word_0016', 'word_0017', 'word_0019', 'word_0021', 'word_0023', 'word_0024', 'word_0033', 'word_0034', 'word_0037', 'word_0043', 'word_0050', 'word_0052', 'word_0054', 'word_0057', 'word_0060', 'word_0069', 'word_0074', 'word_0076', 'word_0077', 'word_0088', 'word_0092', 'word_0097', 'word_0099', 'word_0103', 'word_0110', 'word_0120', 'word_0124', 'word_0129', 'word_0131']\n",
      "case_dir:  {'imagesTr': './data_dir/WORD/imagesTr/word_0014.nii.gz', 'labelsTr': './data_dir/WORD/labelsTr/word_0014.nii.gz'}\n",
      "case_dir:  {'imagesTr': './data_dir/WORD/imagesTr/word_0016.nii.gz', 'labelsTr': './data_dir/WORD/labelsTr/word_0016.nii.gz'}\n",
      "case_dir:  {'imagesTr': './data_dir/WORD/imagesTr/word_0017.nii.gz', 'labelsTr': './data_dir/WORD/labelsTr/word_0017.nii.gz'}\n",
      "case_dir:  {'imagesTr': './data_dir/WORD/imagesTr/word_0019.nii.gz', 'labelsTr': './data_dir/WORD/labelsTr/word_0019.nii.gz'}\n",
      "case_dir:  {'imagesTr': './data_dir/WORD/imagesTr/word_0021.nii.gz', 'labelsTr': './data_dir/WORD/labelsTr/word_0021.nii.gz'}\n",
      "case_dir:  {'imagesTr': './data_dir/WORD/imagesTr/word_0023.nii.gz', 'labelsTr': './data_dir/WORD/labelsTr/word_0023.nii.gz'}\n",
      "case_dir:  {'imagesTr': './data_dir/WORD/imagesTr/word_0024.nii.gz', 'labelsTr': './data_dir/WORD/labelsTr/word_0024.nii.gz'}\n",
      "case_dir:  {'imagesTr': './data_dir/WORD/imagesTr/word_0033.nii.gz', 'labelsTr': './data_dir/WORD/labelsTr/word_0033.nii.gz'}\n",
      "case_dir:  {'imagesTr': './data_dir/WORD/imagesTr/word_0034.nii.gz', 'labelsTr': './data_dir/WORD/labelsTr/word_0034.nii.gz'}\n",
      "case_dir:  {'imagesTr': './data_dir/WORD/imagesTr/word_0037.nii.gz', 'labelsTr': './data_dir/WORD/labelsTr/word_0037.nii.gz'}\n",
      "case_dir:  {'imagesTr': './data_dir/WORD/imagesTr/word_0043.nii.gz', 'labelsTr': './data_dir/WORD/labelsTr/word_0043.nii.gz'}\n",
      "case_dir:  {'imagesTr': './data_dir/WORD/imagesTr/word_0050.nii.gz', 'labelsTr': './data_dir/WORD/labelsTr/word_0050.nii.gz'}\n",
      "case_dir:  {'imagesTr': './data_dir/WORD/imagesTr/word_0052.nii.gz', 'labelsTr': './data_dir/WORD/labelsTr/word_0052.nii.gz'}\n",
      "case_dir:  {'imagesTr': './data_dir/WORD/imagesTr/word_0054.nii.gz', 'labelsTr': './data_dir/WORD/labelsTr/word_0054.nii.gz'}\n",
      "case_dir:  {'imagesTr': './data_dir/WORD/imagesTr/word_0057.nii.gz', 'labelsTr': './data_dir/WORD/labelsTr/word_0057.nii.gz'}\n",
      "case_dir:  {'imagesTr': './data_dir/WORD/imagesTr/word_0060.nii.gz', 'labelsTr': './data_dir/WORD/labelsTr/word_0060.nii.gz'}\n",
      "case_dir:  {'imagesTr': './data_dir/WORD/imagesTr/word_0069.nii.gz', 'labelsTr': './data_dir/WORD/labelsTr/word_0069.nii.gz'}\n",
      "case_dir:  {'imagesTr': './data_dir/WORD/imagesTr/word_0074.nii.gz', 'labelsTr': './data_dir/WORD/labelsTr/word_0074.nii.gz'}\n",
      "case_dir:  {'imagesTr': './data_dir/WORD/imagesTr/word_0076.nii.gz', 'labelsTr': './data_dir/WORD/labelsTr/word_0076.nii.gz'}\n",
      "case_dir:  {'imagesTr': './data_dir/WORD/imagesTr/word_0077.nii.gz', 'labelsTr': './data_dir/WORD/labelsTr/word_0077.nii.gz'}\n",
      "case_dir:  {'imagesTr': './data_dir/WORD/imagesTr/word_0088.nii.gz', 'labelsTr': './data_dir/WORD/labelsTr/word_0088.nii.gz'}\n",
      "case_dir:  {'imagesTr': './data_dir/WORD/imagesTr/word_0092.nii.gz', 'labelsTr': './data_dir/WORD/labelsTr/word_0092.nii.gz'}\n",
      "case_dir:  {'imagesTr': './data_dir/WORD/imagesTr/word_0097.nii.gz', 'labelsTr': './data_dir/WORD/labelsTr/word_0097.nii.gz'}\n",
      "case_dir:  {'imagesTr': './data_dir/WORD/imagesTr/word_0099.nii.gz', 'labelsTr': './data_dir/WORD/labelsTr/word_0099.nii.gz'}\n",
      "case_dir:  {'imagesTr': './data_dir/WORD/imagesTr/word_0103.nii.gz', 'labelsTr': './data_dir/WORD/labelsTr/word_0103.nii.gz'}\n",
      "case_dir:  {'imagesTr': './data_dir/WORD/imagesTr/word_0110.nii.gz', 'labelsTr': './data_dir/WORD/labelsTr/word_0110.nii.gz'}\n",
      "case_dir:  {'imagesTr': './data_dir/WORD/imagesTr/word_0120.nii.gz', 'labelsTr': './data_dir/WORD/labelsTr/word_0120.nii.gz'}\n",
      "case_dir:  {'imagesTr': './data_dir/WORD/imagesTr/word_0124.nii.gz', 'labelsTr': './data_dir/WORD/labelsTr/word_0124.nii.gz'}\n",
      "case_dir:  {'imagesTr': './data_dir/WORD/imagesTr/word_0129.nii.gz', 'labelsTr': './data_dir/WORD/labelsTr/word_0129.nii.gz'}\n",
      "case_dir:  {'imagesTr': './data_dir/WORD/imagesTr/word_0131.nii.gz', 'labelsTr': './data_dir/WORD/labelsTr/word_0131.nii.gz'}\n"
     ]
    }
   ],
   "source": [
    "import numpy as np\n",
    "import glob\n",
    "import os\n",
    "\n",
    "# start the training\n",
    "from utils import get_data\n",
    "n_epoch = 100\n",
    "batch_size = 1\n",
    "res_xyz = (512, 512, 64)\n",
    "out_channels = 17\n",
    "imagesTr_list = sorted(glob.glob(\"./data_dir/WORD/imagesTr/*.nii.gz\"))\n",
    "case_id_list = [os.path.basename(f).split(\".\")[0] for f in imagesTr_list]\n",
    "\n",
    "print(\"case_id_list: \", case_id_list)\n",
    "case_dir_list = []\n",
    "for case_id in case_id_list:\n",
    "    imagesTr_path = \"./data_dir/WORD/imagesTr/{}.nii.gz\".format(case_id)\n",
    "    labelsTr_path = \"./data_dir/WORD/labelsTr/{}.nii.gz\".format(case_id)\n",
    "    case_dir_list.append(\n",
    "        {\"imagesTr\": imagesTr_path, \"labelsTr\": labelsTr_path}\n",
    "    )\n",
    "\n",
    "for case_dir in case_dir_list:\n",
    "    print(\"case_dir: \", case_dir)"
   ]
  },
  {
   "cell_type": "code",
   "execution_count": 8,
   "metadata": {},
   "outputs": [
    {
     "name": "stdout",
     "output_type": "stream",
     "text": [
      "training_list:  [{'imagesTr': './data_dir/WORD/imagesTr/word_0017.nii.gz', 'labelsTr': './data_dir/WORD/labelsTr/word_0017.nii.gz'}, {'imagesTr': './data_dir/WORD/imagesTr/word_0129.nii.gz', 'labelsTr': './data_dir/WORD/labelsTr/word_0129.nii.gz'}, {'imagesTr': './data_dir/WORD/imagesTr/word_0054.nii.gz', 'labelsTr': './data_dir/WORD/labelsTr/word_0054.nii.gz'}, {'imagesTr': './data_dir/WORD/imagesTr/word_0043.nii.gz', 'labelsTr': './data_dir/WORD/labelsTr/word_0043.nii.gz'}, {'imagesTr': './data_dir/WORD/imagesTr/word_0120.nii.gz', 'labelsTr': './data_dir/WORD/labelsTr/word_0120.nii.gz'}, {'imagesTr': './data_dir/WORD/imagesTr/word_0103.nii.gz', 'labelsTr': './data_dir/WORD/labelsTr/word_0103.nii.gz'}, {'imagesTr': './data_dir/WORD/imagesTr/word_0124.nii.gz', 'labelsTr': './data_dir/WORD/labelsTr/word_0124.nii.gz'}, {'imagesTr': './data_dir/WORD/imagesTr/word_0050.nii.gz', 'labelsTr': './data_dir/WORD/labelsTr/word_0050.nii.gz'}, {'imagesTr': './data_dir/WORD/imagesTr/word_0074.nii.gz', 'labelsTr': './data_dir/WORD/labelsTr/word_0074.nii.gz'}, {'imagesTr': './data_dir/WORD/imagesTr/word_0097.nii.gz', 'labelsTr': './data_dir/WORD/labelsTr/word_0097.nii.gz'}, {'imagesTr': './data_dir/WORD/imagesTr/word_0023.nii.gz', 'labelsTr': './data_dir/WORD/labelsTr/word_0023.nii.gz'}, {'imagesTr': './data_dir/WORD/imagesTr/word_0069.nii.gz', 'labelsTr': './data_dir/WORD/labelsTr/word_0069.nii.gz'}, {'imagesTr': './data_dir/WORD/imagesTr/word_0034.nii.gz', 'labelsTr': './data_dir/WORD/labelsTr/word_0034.nii.gz'}, {'imagesTr': './data_dir/WORD/imagesTr/word_0057.nii.gz', 'labelsTr': './data_dir/WORD/labelsTr/word_0057.nii.gz'}, {'imagesTr': './data_dir/WORD/imagesTr/word_0099.nii.gz', 'labelsTr': './data_dir/WORD/labelsTr/word_0099.nii.gz'}, {'imagesTr': './data_dir/WORD/imagesTr/word_0088.nii.gz', 'labelsTr': './data_dir/WORD/labelsTr/word_0088.nii.gz'}, {'imagesTr': './data_dir/WORD/imagesTr/word_0016.nii.gz', 'labelsTr': './data_dir/WORD/labelsTr/word_0016.nii.gz'}, {'imagesTr': './data_dir/WORD/imagesTr/word_0131.nii.gz', 'labelsTr': './data_dir/WORD/labelsTr/word_0131.nii.gz'}, {'imagesTr': './data_dir/WORD/imagesTr/word_0024.nii.gz', 'labelsTr': './data_dir/WORD/labelsTr/word_0024.nii.gz'}, {'imagesTr': './data_dir/WORD/imagesTr/word_0021.nii.gz', 'labelsTr': './data_dir/WORD/labelsTr/word_0021.nii.gz'}, {'imagesTr': './data_dir/WORD/imagesTr/word_0076.nii.gz', 'labelsTr': './data_dir/WORD/labelsTr/word_0076.nii.gz'}]\n",
      "validation_list:  [{'imagesTr': './data_dir/WORD/imagesTr/word_0077.nii.gz', 'labelsTr': './data_dir/WORD/labelsTr/word_0077.nii.gz'}, {'imagesTr': './data_dir/WORD/imagesTr/word_0037.nii.gz', 'labelsTr': './data_dir/WORD/labelsTr/word_0037.nii.gz'}, {'imagesTr': './data_dir/WORD/imagesTr/word_0033.nii.gz', 'labelsTr': './data_dir/WORD/labelsTr/word_0033.nii.gz'}, {'imagesTr': './data_dir/WORD/imagesTr/word_0110.nii.gz', 'labelsTr': './data_dir/WORD/labelsTr/word_0110.nii.gz'}, {'imagesTr': './data_dir/WORD/imagesTr/word_0019.nii.gz', 'labelsTr': './data_dir/WORD/labelsTr/word_0019.nii.gz'}, {'imagesTr': './data_dir/WORD/imagesTr/word_0014.nii.gz', 'labelsTr': './data_dir/WORD/labelsTr/word_0014.nii.gz'}]\n",
      "testing_list:  [{'imagesTr': './data_dir/WORD/imagesTr/word_0092.nii.gz', 'labelsTr': './data_dir/WORD/labelsTr/word_0092.nii.gz'}, {'imagesTr': './data_dir/WORD/imagesTr/word_0060.nii.gz', 'labelsTr': './data_dir/WORD/labelsTr/word_0060.nii.gz'}, {'imagesTr': './data_dir/WORD/imagesTr/word_0052.nii.gz', 'labelsTr': './data_dir/WORD/labelsTr/word_0052.nii.gz'}]\n"
     ]
    }
   ],
   "source": [
    "training_ratio = 0.7\n",
    "validation_ratio = 0.2\n",
    "testing_ratio = 0.1\n",
    "training_num = int(len(case_dir_list) * training_ratio)\n",
    "validation_num = int(len(case_dir_list) * validation_ratio)\n",
    "testing_num = int(len(case_dir_list) * testing_ratio)\n",
    "# shuffle\n",
    "np.random.seed(0)\n",
    "np.random.shuffle(case_dir_list)\n",
    "training_list = case_dir_list[:training_num]\n",
    "validation_list = case_dir_list[training_num:training_num + validation_num]\n",
    "testing_list = case_dir_list[training_num + validation_num:]\n",
    "\n",
    "print(\"training_list: \", training_list)\n",
    "print(\"validation_list: \", validation_list)\n",
    "print(\"testing_list: \", testing_list)"
   ]
  },
  {
   "cell_type": "code",
   "execution_count": null,
   "metadata": {},
   "outputs": [],
   "source": [
    "for idx_epoch in range(n_epoch):\n",
    "    for idx_batch in range(0, len(training_list), batch_size):\n",
    "        # load the data\n",
    "        dir_list = training_list[idx_batch:idx_batch+batch_size]\n",
    "        # do the training\n",
    "        batch_x, batch_y = get_data(dir_list, batch_size, res_xyz, out_channels)\n",
    "        print(\"batch_x: \", batch_x.shape, \"batch_y: \", batch_y.shape)\n"
   ]
  }
 ],
 "metadata": {
  "kernelspec": {
   "display_name": "Python 3",
   "language": "python",
   "name": "python3"
  },
  "language_info": {
   "codemirror_mode": {
    "name": "ipython",
    "version": 3
   },
   "file_extension": ".py",
   "mimetype": "text/x-python",
   "name": "python",
   "nbconvert_exporter": "python",
   "pygments_lexer": "ipython3",
   "version": "3.9.19"
  }
 },
 "nbformat": 4,
 "nbformat_minor": 2
}
